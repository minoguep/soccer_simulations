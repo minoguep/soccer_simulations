{
 "cells": [
  {
   "cell_type": "code",
   "execution_count": 162,
   "metadata": {},
   "outputs": [],
   "source": [
    "#!pip3 install pandas\n",
    "#!pip3 install numpy\n",
    "#!pip3 install seaborn\n",
    "#!pip3 install matplotlib\n",
    "#!pip3 install scipy\n",
    "#!pip3 install statsmodels\n",
    "\n",
    "import pandas as pd\n",
    "import numpy as np\n",
    "import seaborn as sns\n",
    "import matplotlib.pyplot as plt\n",
    "from scipy.stats import poisson\n",
    "import statsmodels.api as sm\n",
    "import statsmodels.formula.api as smf"
   ]
  },
  {
   "cell_type": "markdown",
   "metadata": {},
   "source": [
    "# Import data \n",
    "\n",
    "The dataset used comes from the [Ireland football results dataset](https://www.football-data.co.uk/ireland.php) on https://www.football-data.co.uk/. This website tracks hstoric match results across a number of leagues and is a great resource for this analysis."
   ]
  },
  {
   "cell_type": "code",
   "execution_count": 8,
   "metadata": {},
   "outputs": [
    {
     "data": {
      "text/html": [
       "<div>\n",
       "<style scoped>\n",
       "    .dataframe tbody tr th:only-of-type {\n",
       "        vertical-align: middle;\n",
       "    }\n",
       "\n",
       "    .dataframe tbody tr th {\n",
       "        vertical-align: top;\n",
       "    }\n",
       "\n",
       "    .dataframe thead th {\n",
       "        text-align: right;\n",
       "    }\n",
       "</style>\n",
       "<table border=\"1\" class=\"dataframe\">\n",
       "  <thead>\n",
       "    <tr style=\"text-align: right;\">\n",
       "      <th></th>\n",
       "      <th>Country</th>\n",
       "      <th>League</th>\n",
       "      <th>Season</th>\n",
       "      <th>Date</th>\n",
       "      <th>Time</th>\n",
       "      <th>Home</th>\n",
       "      <th>Away</th>\n",
       "      <th>HG</th>\n",
       "      <th>AG</th>\n",
       "      <th>Res</th>\n",
       "      <th>...</th>\n",
       "      <th>PD</th>\n",
       "      <th>PA</th>\n",
       "      <th>MaxH</th>\n",
       "      <th>MaxD</th>\n",
       "      <th>MaxA</th>\n",
       "      <th>AvgH</th>\n",
       "      <th>AvgD</th>\n",
       "      <th>AvgA</th>\n",
       "      <th>game_id</th>\n",
       "      <th>total_goals</th>\n",
       "    </tr>\n",
       "  </thead>\n",
       "  <tbody>\n",
       "    <tr>\n",
       "      <th>1560</th>\n",
       "      <td>Ireland</td>\n",
       "      <td>Premier Division</td>\n",
       "      <td>2020</td>\n",
       "      <td>2020-02-14</td>\n",
       "      <td>19:45</td>\n",
       "      <td>Cork City</td>\n",
       "      <td>Shelbourne</td>\n",
       "      <td>0</td>\n",
       "      <td>1</td>\n",
       "      <td>A</td>\n",
       "      <td>...</td>\n",
       "      <td>3.31</td>\n",
       "      <td>3.65</td>\n",
       "      <td>2.20</td>\n",
       "      <td>3.43</td>\n",
       "      <td>3.95</td>\n",
       "      <td>2.11</td>\n",
       "      <td>3.17</td>\n",
       "      <td>3.48</td>\n",
       "      <td>1560</td>\n",
       "      <td>1</td>\n",
       "    </tr>\n",
       "    <tr>\n",
       "      <th>1561</th>\n",
       "      <td>Ireland</td>\n",
       "      <td>Premier Division</td>\n",
       "      <td>2020</td>\n",
       "      <td>2020-02-14</td>\n",
       "      <td>19:45</td>\n",
       "      <td>Dundalk</td>\n",
       "      <td>Derry City</td>\n",
       "      <td>1</td>\n",
       "      <td>0</td>\n",
       "      <td>H</td>\n",
       "      <td>...</td>\n",
       "      <td>4.01</td>\n",
       "      <td>6.87</td>\n",
       "      <td>1.55</td>\n",
       "      <td>4.24</td>\n",
       "      <td>7.23</td>\n",
       "      <td>1.50</td>\n",
       "      <td>3.96</td>\n",
       "      <td>6.34</td>\n",
       "      <td>1561</td>\n",
       "      <td>1</td>\n",
       "    </tr>\n",
       "    <tr>\n",
       "      <th>1562</th>\n",
       "      <td>Ireland</td>\n",
       "      <td>Premier Division</td>\n",
       "      <td>2020</td>\n",
       "      <td>2020-02-14</td>\n",
       "      <td>19:45</td>\n",
       "      <td>St. Patricks</td>\n",
       "      <td>Waterford</td>\n",
       "      <td>0</td>\n",
       "      <td>1</td>\n",
       "      <td>A</td>\n",
       "      <td>...</td>\n",
       "      <td>3.17</td>\n",
       "      <td>4.49</td>\n",
       "      <td>2.02</td>\n",
       "      <td>3.91</td>\n",
       "      <td>5.52</td>\n",
       "      <td>1.86</td>\n",
       "      <td>3.27</td>\n",
       "      <td>4.34</td>\n",
       "      <td>1562</td>\n",
       "      <td>1</td>\n",
       "    </tr>\n",
       "    <tr>\n",
       "      <th>1563</th>\n",
       "      <td>Ireland</td>\n",
       "      <td>Premier Division</td>\n",
       "      <td>2020</td>\n",
       "      <td>2020-02-14</td>\n",
       "      <td>20:00</td>\n",
       "      <td>Finn Harps</td>\n",
       "      <td>Sligo Rovers</td>\n",
       "      <td>1</td>\n",
       "      <td>0</td>\n",
       "      <td>H</td>\n",
       "      <td>...</td>\n",
       "      <td>3.03</td>\n",
       "      <td>2.66</td>\n",
       "      <td>3.05</td>\n",
       "      <td>3.15</td>\n",
       "      <td>3.23</td>\n",
       "      <td>2.80</td>\n",
       "      <td>2.98</td>\n",
       "      <td>2.63</td>\n",
       "      <td>1563</td>\n",
       "      <td>1</td>\n",
       "    </tr>\n",
       "    <tr>\n",
       "      <th>1564</th>\n",
       "      <td>Ireland</td>\n",
       "      <td>Premier Division</td>\n",
       "      <td>2020</td>\n",
       "      <td>2020-02-15</td>\n",
       "      <td>14:00</td>\n",
       "      <td>Bohemians</td>\n",
       "      <td>Shamrock Rovers</td>\n",
       "      <td>0</td>\n",
       "      <td>1</td>\n",
       "      <td>A</td>\n",
       "      <td>...</td>\n",
       "      <td>3.11</td>\n",
       "      <td>2.21</td>\n",
       "      <td>3.90</td>\n",
       "      <td>3.42</td>\n",
       "      <td>2.21</td>\n",
       "      <td>3.62</td>\n",
       "      <td>3.00</td>\n",
       "      <td>2.13</td>\n",
       "      <td>1564</td>\n",
       "      <td>1</td>\n",
       "    </tr>\n",
       "  </tbody>\n",
       "</table>\n",
       "<p>5 rows × 21 columns</p>\n",
       "</div>"
      ],
      "text/plain": [
       "      Country            League  Season       Date   Time          Home  \\\n",
       "1560  Ireland  Premier Division    2020 2020-02-14  19:45     Cork City   \n",
       "1561  Ireland  Premier Division    2020 2020-02-14  19:45       Dundalk   \n",
       "1562  Ireland  Premier Division    2020 2020-02-14  19:45  St. Patricks   \n",
       "1563  Ireland  Premier Division    2020 2020-02-14  20:00    Finn Harps   \n",
       "1564  Ireland  Premier Division    2020 2020-02-15  14:00     Bohemians   \n",
       "\n",
       "                 Away  HG  AG Res  ...    PD    PA  MaxH  MaxD  MaxA  AvgH  \\\n",
       "1560       Shelbourne   0   1   A  ...  3.31  3.65  2.20  3.43  3.95  2.11   \n",
       "1561       Derry City   1   0   H  ...  4.01  6.87  1.55  4.24  7.23  1.50   \n",
       "1562        Waterford   0   1   A  ...  3.17  4.49  2.02  3.91  5.52  1.86   \n",
       "1563     Sligo Rovers   1   0   H  ...  3.03  2.66  3.05  3.15  3.23  2.80   \n",
       "1564  Shamrock Rovers   0   1   A  ...  3.11  2.21  3.90  3.42  2.21  3.62   \n",
       "\n",
       "      AvgD  AvgA  game_id  total_goals  \n",
       "1560  3.17  3.48     1560            1  \n",
       "1561  3.96  6.34     1561            1  \n",
       "1562  3.27  4.34     1562            1  \n",
       "1563  2.98  2.63     1563            1  \n",
       "1564  3.00  2.13     1564            1  \n",
       "\n",
       "[5 rows x 21 columns]"
      ]
     },
     "execution_count": 8,
     "metadata": {},
     "output_type": "execute_result"
    }
   ],
   "source": [
    "loi_df = pd.read_csv('data/loi_results.csv')\n",
    "\n",
    "# create a game_id columns\n",
    "loi_df['game_id'] = loi_df.index\n",
    "loi_df['Date'] = loi_df['Date'].astype('datetime64[ns]')\n",
    "\n",
    "# limit to games in 2020\n",
    "loi_df = loi_df.loc[loi_df['Date'] > '2020-01-01 00:00:00']\n",
    "loi_df['total_goals'] = loi_df['HG'] + loi_df['AG']\n",
    "loi_df.head()"
   ]
  },
  {
   "cell_type": "markdown",
   "metadata": {},
   "source": [
    "# Plot goals per game to understand distribution"
   ]
  },
  {
   "cell_type": "code",
   "execution_count": 135,
   "metadata": {},
   "outputs": [
    {
     "name": "stderr",
     "output_type": "stream",
     "text": [
      "<ipython-input-135-fcca3671eb8a>:33: UserWarning: Matplotlib is currently using module://ipykernel.pylab.backend_inline, which is a non-GUI backend, so cannot show the figure.\n",
      "  fig.show()\n"
     ]
    },
    {
     "data": {
      "image/png": "[encoded data removed]",
      "text/plain": [
       "<Figure size 1476x756 with 1 Axes>"
      ]
     },
     "metadata": {
      "needs_background": "light"
     },
     "output_type": "display_data"
    }
   ],
   "source": [
    "viz_df = loi_df.groupby('total_goals')['game_id'].count().reset_index()\n",
    "viz_df.columns = ['total_goals', 'number_of_matches']\n",
    "viz_df['proportion_of_goals'] = viz_df['number_of_matches']/len(loi_df)\n",
    "\n",
    "# generate 2000 points distributed according to a poisson distribution to overlay\n",
    "mean_goals = loi_df['total_goals'].mean()\n",
    "poisson_dist = pd.DataFrame({'goals_scored': list(poisson.rvs(mean_goals, size=2000))}).reset_index()\n",
    "poisson_dist = poisson_dist.groupby('goals_scored')['index'].count().reset_index()\n",
    "poisson_dist['proportion_of_goals'] = poisson_dist['index']/2000\n",
    "\n",
    "fig, ax = plt.subplots()\n",
    "fig.set_size_inches(20.5, 10.5)\n",
    "\n",
    "# plot our boxplot and\n",
    "ax = sns.barplot(\n",
    "    x='total_goals', y='proportion_of_goals', data=viz_df, color='deepskyblue'\n",
    ")\n",
    "\n",
    "ax = sns.lineplot(\n",
    "    x='goals_scored', y='proportion_of_goals', data=poisson_dist, color='red', linewidth=5, markers=True\n",
    ")\n",
    "\n",
    "# Hide the right and top spines\n",
    "ax.spines['right'].set_visible(False)\n",
    "ax.spines['top'].set_visible(False)\n",
    "\n",
    "# set and format titles\n",
    "ax.set_title(\"LOI 2020 goals per game with poisson overlay\", fontdict={'fontsize':18, 'fontweight':'bold'})\n",
    "ax.set_xlabel(\"Number of goals scored\", fontdict={'fontsize':12, 'fontweight':'bold'})\n",
    "ax.set_ylabel(\"Proportion of games\", fontdict={'fontsize':12, 'fontweight':'bold'})\n",
    "ax.set_xticklabels(ax.get_xticklabels(), size=14)\n",
    "plt.savefig('goals_per_game_with_poisson.png')\n",
    "fig.show()"
   ]
  },
  {
   "cell_type": "markdown",
   "metadata": {},
   "source": [
    "# Basic poisson model \n",
    "\n",
    "Since we are comfortable that the goals per game are distributed according to a poisson distribution, we can calculate simple probabilities for the number of goals a team will score in a game using the following formula:\n",
    "\n",
    "$$P(x) = \\frac{e^{- \\lambda}\\lambda^x}{x!}$$\n",
    "\n",
    "Where $x$ is the number of goals a team will score and $\\lambda$ the average number of goals scored by the team per game."
   ]
  },
  {
   "cell_type": "markdown",
   "metadata": {},
   "source": [
    "## Transform data into a better format\n",
    "\n",
    "Lets transform the data into a format whereby each row represents a single teams performance in a given game. Having the data in this format will make things easier for our modelling later on."
   ]
  },
  {
   "cell_type": "code",
   "execution_count": 36,
   "metadata": {},
   "outputs": [
    {
     "name": "stderr",
     "output_type": "stream",
     "text": [
      "<ipython-input-36-df01d9e9d474>:6: SettingWithCopyWarning: \n",
      "A value is trying to be set on a copy of a slice from a DataFrame.\n",
      "Try using .loc[row_indexer,col_indexer] = value instead\n",
      "\n",
      "See the caveats in the documentation: https://pandas.pydata.org/pandas-docs/stable/user_guide/indexing.html#returning-a-view-versus-a-copy\n",
      "  home_df['at_home'] = 1\n",
      "<ipython-input-36-df01d9e9d474>:7: SettingWithCopyWarning: \n",
      "A value is trying to be set on a copy of a slice from a DataFrame.\n",
      "Try using .loc[row_indexer,col_indexer] = value instead\n",
      "\n",
      "See the caveats in the documentation: https://pandas.pydata.org/pandas-docs/stable/user_guide/indexing.html#returning-a-view-versus-a-copy\n",
      "  away_df['at_home'] = 0\n",
      "<ipython-input-36-df01d9e9d474>:10: SettingWithCopyWarning: \n",
      "A value is trying to be set on a copy of a slice from a DataFrame.\n",
      "Try using .loc[row_indexer,col_indexer] = value instead\n",
      "\n",
      "See the caveats in the documentation: https://pandas.pydata.org/pandas-docs/stable/user_guide/indexing.html#returning-a-view-versus-a-copy\n",
      "  home_df['outcome'] = 'draw'\n",
      "/usr/local/lib/python3.8/site-packages/pandas/core/indexing.py:966: SettingWithCopyWarning: \n",
      "A value is trying to be set on a copy of a slice from a DataFrame.\n",
      "Try using .loc[row_indexer,col_indexer] = value instead\n",
      "\n",
      "See the caveats in the documentation: https://pandas.pydata.org/pandas-docs/stable/user_guide/indexing.html#returning-a-view-versus-a-copy\n",
      "  self.obj[item] = s\n",
      "<ipython-input-36-df01d9e9d474>:15: SettingWithCopyWarning: \n",
      "A value is trying to be set on a copy of a slice from a DataFrame.\n",
      "Try using .loc[row_indexer,col_indexer] = value instead\n",
      "\n",
      "See the caveats in the documentation: https://pandas.pydata.org/pandas-docs/stable/user_guide/indexing.html#returning-a-view-versus-a-copy\n",
      "  away_df['outcome'] = 'draw'\n"
     ]
    },
    {
     "data": {
      "text/html": [
       "<div>\n",
       "<style scoped>\n",
       "    .dataframe tbody tr th:only-of-type {\n",
       "        vertical-align: middle;\n",
       "    }\n",
       "\n",
       "    .dataframe tbody tr th {\n",
       "        vertical-align: top;\n",
       "    }\n",
       "\n",
       "    .dataframe thead th {\n",
       "        text-align: right;\n",
       "    }\n",
       "</style>\n",
       "<table border=\"1\" class=\"dataframe\">\n",
       "  <thead>\n",
       "    <tr style=\"text-align: right;\">\n",
       "      <th></th>\n",
       "      <th>game_id</th>\n",
       "      <th>game_date</th>\n",
       "      <th>team</th>\n",
       "      <th>goals_scored</th>\n",
       "      <th>opponent</th>\n",
       "      <th>goals_conceded</th>\n",
       "      <th>result</th>\n",
       "      <th>at_home</th>\n",
       "      <th>outcome</th>\n",
       "    </tr>\n",
       "  </thead>\n",
       "  <tbody>\n",
       "    <tr>\n",
       "      <th>1560</th>\n",
       "      <td>1560</td>\n",
       "      <td>2020-02-14</td>\n",
       "      <td>Cork City</td>\n",
       "      <td>0</td>\n",
       "      <td>Shelbourne</td>\n",
       "      <td>1</td>\n",
       "      <td>A</td>\n",
       "      <td>1</td>\n",
       "      <td>loss</td>\n",
       "    </tr>\n",
       "    <tr>\n",
       "      <th>1561</th>\n",
       "      <td>1561</td>\n",
       "      <td>2020-02-14</td>\n",
       "      <td>Dundalk</td>\n",
       "      <td>1</td>\n",
       "      <td>Derry City</td>\n",
       "      <td>0</td>\n",
       "      <td>H</td>\n",
       "      <td>1</td>\n",
       "      <td>win</td>\n",
       "    </tr>\n",
       "    <tr>\n",
       "      <th>1562</th>\n",
       "      <td>1562</td>\n",
       "      <td>2020-02-14</td>\n",
       "      <td>St. Patricks</td>\n",
       "      <td>0</td>\n",
       "      <td>Waterford</td>\n",
       "      <td>1</td>\n",
       "      <td>A</td>\n",
       "      <td>1</td>\n",
       "      <td>loss</td>\n",
       "    </tr>\n",
       "    <tr>\n",
       "      <th>1563</th>\n",
       "      <td>1563</td>\n",
       "      <td>2020-02-14</td>\n",
       "      <td>Finn Harps</td>\n",
       "      <td>1</td>\n",
       "      <td>Sligo Rovers</td>\n",
       "      <td>0</td>\n",
       "      <td>H</td>\n",
       "      <td>1</td>\n",
       "      <td>win</td>\n",
       "    </tr>\n",
       "    <tr>\n",
       "      <th>1564</th>\n",
       "      <td>1564</td>\n",
       "      <td>2020-02-15</td>\n",
       "      <td>Bohemians</td>\n",
       "      <td>0</td>\n",
       "      <td>Shamrock Rovers</td>\n",
       "      <td>1</td>\n",
       "      <td>A</td>\n",
       "      <td>1</td>\n",
       "      <td>loss</td>\n",
       "    </tr>\n",
       "  </tbody>\n",
       "</table>\n",
       "</div>"
      ],
      "text/plain": [
       "      game_id  game_date          team  goals_scored         opponent  \\\n",
       "1560     1560 2020-02-14     Cork City             0       Shelbourne   \n",
       "1561     1561 2020-02-14       Dundalk             1       Derry City   \n",
       "1562     1562 2020-02-14  St. Patricks             0        Waterford   \n",
       "1563     1563 2020-02-14    Finn Harps             1     Sligo Rovers   \n",
       "1564     1564 2020-02-15     Bohemians             0  Shamrock Rovers   \n",
       "\n",
       "      goals_conceded result  at_home outcome  \n",
       "1560               1      A        1    loss  \n",
       "1561               0      H        1     win  \n",
       "1562               1      A        1    loss  \n",
       "1563               0      H        1     win  \n",
       "1564               1      A        1    loss  "
      ]
     },
     "execution_count": 36,
     "metadata": {},
     "output_type": "execute_result"
    }
   ],
   "source": [
    "home_df = loi_df[['game_id', 'Date', 'Home', 'HG', 'Away', 'AG', 'Res']]\n",
    "away_df = loi_df[['game_id', 'Date', 'Away', 'AG', 'Home', 'HG', 'Res']]\n",
    "\n",
    "home_df.columns = away_df.columns = ['game_id', 'game_date', 'team', 'goals_scored', 'opponent', 'goals_conceded', 'result']\n",
    "\n",
    "home_df['at_home'] = 1\n",
    "away_df['at_home'] = 0\n",
    "\n",
    "# tidy up result column\n",
    "home_df['outcome'] = 'draw'\n",
    "home_df.loc[home_df['result']=='H', 'outcome'] = 'win'\n",
    "home_df.loc[home_df['result']=='A', 'outcome'] = 'loss'\n",
    "\n",
    "# tidy up result column\n",
    "away_df['outcome'] = 'draw'\n",
    "away_df.loc[home_df['result']=='A', 'outcome'] = 'win'\n",
    "away_df.loc[home_df['result']=='H', 'outcome'] = 'loss'\n",
    "\n",
    "team_results_df = pd.concat([home_df, away_df])\n",
    "team_results_df.head()"
   ]
  },
  {
   "cell_type": "markdown",
   "metadata": {},
   "source": [
    "## Calculate average goals for each team"
   ]
  },
  {
   "cell_type": "code",
   "execution_count": 68,
   "metadata": {},
   "outputs": [
    {
     "data": {
      "text/html": [
       "<div>\n",
       "<style scoped>\n",
       "    .dataframe tbody tr th:only-of-type {\n",
       "        vertical-align: middle;\n",
       "    }\n",
       "\n",
       "    .dataframe tbody tr th {\n",
       "        vertical-align: top;\n",
       "    }\n",
       "\n",
       "    .dataframe thead th {\n",
       "        text-align: right;\n",
       "    }\n",
       "</style>\n",
       "<table border=\"1\" class=\"dataframe\">\n",
       "  <thead>\n",
       "    <tr style=\"text-align: right;\">\n",
       "      <th></th>\n",
       "      <th>team</th>\n",
       "      <th>goals_scored</th>\n",
       "    </tr>\n",
       "  </thead>\n",
       "  <tbody>\n",
       "    <tr>\n",
       "      <th>0</th>\n",
       "      <td>Bohemians</td>\n",
       "      <td>1.083333</td>\n",
       "    </tr>\n",
       "    <tr>\n",
       "      <th>1</th>\n",
       "      <td>Cork City</td>\n",
       "      <td>0.545455</td>\n",
       "    </tr>\n",
       "    <tr>\n",
       "      <th>2</th>\n",
       "      <td>Derry City</td>\n",
       "      <td>1.000000</td>\n",
       "    </tr>\n",
       "    <tr>\n",
       "      <th>3</th>\n",
       "      <td>Dundalk</td>\n",
       "      <td>2.000000</td>\n",
       "    </tr>\n",
       "    <tr>\n",
       "      <th>4</th>\n",
       "      <td>Finn Harps</td>\n",
       "      <td>0.666667</td>\n",
       "    </tr>\n",
       "    <tr>\n",
       "      <th>5</th>\n",
       "      <td>Shamrock Rovers</td>\n",
       "      <td>2.500000</td>\n",
       "    </tr>\n",
       "    <tr>\n",
       "      <th>6</th>\n",
       "      <td>Shelbourne</td>\n",
       "      <td>0.833333</td>\n",
       "    </tr>\n",
       "    <tr>\n",
       "      <th>7</th>\n",
       "      <td>Sligo Rovers</td>\n",
       "      <td>1.166667</td>\n",
       "    </tr>\n",
       "    <tr>\n",
       "      <th>8</th>\n",
       "      <td>St. Patricks</td>\n",
       "      <td>0.500000</td>\n",
       "    </tr>\n",
       "    <tr>\n",
       "      <th>9</th>\n",
       "      <td>Waterford</td>\n",
       "      <td>1.250000</td>\n",
       "    </tr>\n",
       "  </tbody>\n",
       "</table>\n",
       "</div>"
      ],
      "text/plain": [
       "              team  goals_scored\n",
       "0        Bohemians      1.083333\n",
       "1        Cork City      0.545455\n",
       "2       Derry City      1.000000\n",
       "3          Dundalk      2.000000\n",
       "4       Finn Harps      0.666667\n",
       "5  Shamrock Rovers      2.500000\n",
       "6       Shelbourne      0.833333\n",
       "7     Sligo Rovers      1.166667\n",
       "8     St. Patricks      0.500000\n",
       "9        Waterford      1.250000"
      ]
     },
     "execution_count": 68,
     "metadata": {},
     "output_type": "execute_result"
    }
   ],
   "source": [
    "goals_for_against = team_results_df.groupby('team')[['goals_scored']].mean().reset_index()\n",
    "goals_for_against"
   ]
  },
  {
   "cell_type": "markdown",
   "metadata": {},
   "source": [
    "## Use this approach to calculate the probability that a team will score x goals \n",
    "\n",
    "Now that we have the expected goals for each team, we can plug these values into the formula described above to answer some questions."
   ]
  },
  {
   "cell_type": "markdown",
   "metadata": {},
   "source": [
    "### What is the probability that shamrock rovers will score 3 goals in a game? "
   ]
  },
  {
   "cell_type": "code",
   "execution_count": 24,
   "metadata": {},
   "outputs": [
    {
     "data": {
      "text/plain": [
       "0.21376301724973648"
      ]
     },
     "execution_count": 24,
     "metadata": {},
     "output_type": "execute_result"
    }
   ],
   "source": [
    "number_of_goals = 3\n",
    "expected_goals = goals_for_against.loc[goals_for_against['team']=='Shamrock Rovers', 'goals_scored'].values[0]\n",
    "\n",
    "prob = poisson.pmf(number_of_goals, expected_goals)\n",
    "prob"
   ]
  },
  {
   "cell_type": "markdown",
   "metadata": {},
   "source": [
    "### What is the probability of Finn Harps scoring 3 goals in a match? "
   ]
  },
  {
   "cell_type": "code",
   "execution_count": 25,
   "metadata": {},
   "outputs": [
    {
     "data": {
      "text/plain": [
       "0.02535393180407862"
      ]
     },
     "execution_count": 25,
     "metadata": {},
     "output_type": "execute_result"
    }
   ],
   "source": [
    "number_of_goals = 3\n",
    "expected_goals = goals_for_against.loc[goals_for_against['team']=='Finn Harps', 'goals_scored'].values[0]\n",
    "\n",
    "prob = poisson.pmf(number_of_goals, expected_goals)\n",
    "prob"
   ]
  },
  {
   "cell_type": "markdown",
   "metadata": {},
   "source": [
    "### What is the probability that shamrck rovers will score 2 or more goals?\n",
    "\n",
    "This is simplly $1 - P($scoring 0 or 1 goals$)$"
   ]
  },
  {
   "cell_type": "code",
   "execution_count": 27,
   "metadata": {},
   "outputs": [
    {
     "data": {
      "text/plain": [
       "0.7127025048163542"
      ]
     },
     "execution_count": 27,
     "metadata": {},
     "output_type": "execute_result"
    }
   ],
   "source": [
    "expected_goals = goals_for_against.loc[goals_for_against['team']=='Shamrock Rovers', 'goals_scored'].values[0]\n",
    "\n",
    "prob = poisson.pmf(0, expected_goals) + poisson.pmf(1, expected_goals)\n",
    "1 - prob "
   ]
  },
  {
   "cell_type": "markdown",
   "metadata": {},
   "source": [
    "# Now lets take into account the opponent and home field advantage \n",
    "\n",
    "While the basic approach described above can help us get to grips with the poisson distribution and the idea of predicting goal probabilities, it fails to take into account the quality of the opponent and any home field advantage which may be in play.\n",
    "\n",
    "We can get around this however by fitting a Poisson regression model (since the response variable is poisson distributed) which will predict the expected number of goals scored a team will score against a particular opponent with home field advantage in mind.\n",
    "\n",
    "Of course we can add any number of variables to this model (e.g. avaerage passes per team, possession, etc.) as they are available, however for the purposes of this tutorial the three mentioned above will suffice.\n",
    "\n",
    "Thankfully for us, we can very easily fit a poisson regression using the [statsmodels library](https://www.statsmodels.org/stable/index.html), as demonstrated below."
   ]
  },
  {
   "cell_type": "code",
   "execution_count": 136,
   "metadata": {},
   "outputs": [],
   "source": [
    "poisson_model = smf.glm(\n",
    "    formula=\"goals_scored ~ at_home + team + opponent\", data=team_results_df, family=sm.families.Poisson()\n",
    ").fit()"
   ]
  },
  {
   "cell_type": "markdown",
   "metadata": {},
   "source": [
    "When we take a look at the output below, the first thing that we notice is that there is a lot of information. However for the purposes of understanding the predictions will work, the main things we are interested in are the values in the `coeff` column. These values represent what we will pass into the poisson regression model formula to calculate the expected goals a team will score.\n",
    "\n",
    "Let us illustrate this by means of an example:\n",
    "\n",
    "Consider we want to put a bet on how many goals Shamrock Rovers will score in their upcoming home fixture against Sligo Rovers. We would begin by pulling the `intercept`, `team[T.Shamrock Rovers]`, `opponent[T.Sligo Rovers]`, and `home` values from the table below (not if the team you want to detrmine the expected goals for is playing away you can leave out the `home` value).\n",
    "\n",
    "From here, we can simply plug these in to the poisson regression formula:\n",
    "\n",
    "$$ \\lambda = E[Y | x] = e^{\\theta x}$$\n",
    "\n",
    "Where $\\theta$ is the sum of our coefficient values.\n",
    "\n",
    "Doing this we get:\n",
    "\n",
    "$$ \\lambda = e^{-0.9015 + 0.8445 + 1.0866 + 0.2439} = 3.57$$\n",
    "\n",
    "Amazingly, our model tells us that Shamrock Rovers are in for a big day when they play Sligo with an expected goals haul  of 3.57!\n",
    "\n",
    "Of course we don't always have to do this by hand as (statsmodels)[(https://www.statsmodels.org/stable/index.html)] provides a handy `predict()` function which we will use in our simulations (see below)."
   ]
  },
  {
   "cell_type": "code",
   "execution_count": 156,
   "metadata": {},
   "outputs": [
    {
     "data": {
      "text/plain": [
       "3.5736065212859063"
      ]
     },
     "execution_count": 156,
     "metadata": {},
     "output_type": "execute_result"
    }
   ],
   "source": [
    "poisson_model.predict(\n",
    "    pd.DataFrame(data={'team': 'Shamrock Rovers', 'opponent': 'Sligo Rovers', 'at_home':1},index=[1])\n",
    ").values[0]"
   ]
  },
  {
   "cell_type": "code",
   "execution_count": 137,
   "metadata": {},
   "outputs": [
    {
     "data": {
      "text/html": [
       "<table class=\"simpletable\">\n",
       "<caption>Generalized Linear Model Regression Results</caption>\n",
       "<tr>\n",
       "  <th>Dep. Variable:</th>     <td>goals_scored</td>   <th>  No. Observations:  </th>  <td>   116</td> \n",
       "</tr>\n",
       "<tr>\n",
       "  <th>Model:</th>                  <td>GLM</td>       <th>  Df Residuals:      </th>  <td>    96</td> \n",
       "</tr>\n",
       "<tr>\n",
       "  <th>Model Family:</th>         <td>Poisson</td>     <th>  Df Model:          </th>  <td>    19</td> \n",
       "</tr>\n",
       "<tr>\n",
       "  <th>Link Function:</th>          <td>log</td>       <th>  Scale:             </th> <td>  1.0000</td>\n",
       "</tr>\n",
       "<tr>\n",
       "  <th>Method:</th>                <td>IRLS</td>       <th>  Log-Likelihood:    </th> <td> -142.57</td>\n",
       "</tr>\n",
       "<tr>\n",
       "  <th>Date:</th>            <td>Thu, 24 Sep 2020</td> <th>  Deviance:          </th> <td>  108.54</td>\n",
       "</tr>\n",
       "<tr>\n",
       "  <th>Time:</th>                <td>19:02:54</td>     <th>  Pearson chi2:      </th>  <td>  92.5</td> \n",
       "</tr>\n",
       "<tr>\n",
       "  <th>No. Iterations:</th>          <td>5</td>        <th>                     </th>     <td> </td>   \n",
       "</tr>\n",
       "<tr>\n",
       "  <th>Covariance Type:</th>     <td>nonrobust</td>    <th>                     </th>     <td> </td>   \n",
       "</tr>\n",
       "</table>\n",
       "<table class=\"simpletable\">\n",
       "<tr>\n",
       "               <td></td>                  <th>coef</th>     <th>std err</th>      <th>z</th>      <th>P>|z|</th>  <th>[0.025</th>    <th>0.975]</th>  \n",
       "</tr>\n",
       "<tr>\n",
       "  <th>Intercept</th>                   <td>   -0.9015</td> <td>    0.490</td> <td>   -1.841</td> <td> 0.066</td> <td>   -1.861</td> <td>    0.058</td>\n",
       "</tr>\n",
       "<tr>\n",
       "  <th>team[T.Cork City]</th>           <td>   -0.5431</td> <td>    0.496</td> <td>   -1.095</td> <td> 0.274</td> <td>   -1.516</td> <td>    0.429</td>\n",
       "</tr>\n",
       "<tr>\n",
       "  <th>team[T.Derry City]</th>          <td>   -0.0451</td> <td>    0.414</td> <td>   -0.109</td> <td> 0.913</td> <td>   -0.856</td> <td>    0.766</td>\n",
       "</tr>\n",
       "<tr>\n",
       "  <th>team[T.Dundalk]</th>             <td>    0.7030</td> <td>    0.361</td> <td>    1.946</td> <td> 0.052</td> <td>   -0.005</td> <td>    1.411</td>\n",
       "</tr>\n",
       "<tr>\n",
       "  <th>team[T.Finn Harps]</th>          <td>   -0.3908</td> <td>    0.453</td> <td>   -0.863</td> <td> 0.388</td> <td>   -1.278</td> <td>    0.497</td>\n",
       "</tr>\n",
       "<tr>\n",
       "  <th>team[T.Shamrock Rovers]</th>     <td>    0.8445</td> <td>    0.338</td> <td>    2.501</td> <td> 0.012</td> <td>    0.183</td> <td>    1.506</td>\n",
       "</tr>\n",
       "<tr>\n",
       "  <th>team[T.Shelbourne]</th>          <td>   -0.3009</td> <td>    0.426</td> <td>   -0.707</td> <td> 0.480</td> <td>   -1.136</td> <td>    0.534</td>\n",
       "</tr>\n",
       "<tr>\n",
       "  <th>team[T.Sligo Rovers]</th>        <td>    0.1805</td> <td>    0.393</td> <td>    0.459</td> <td> 0.646</td> <td>   -0.590</td> <td>    0.951</td>\n",
       "</tr>\n",
       "<tr>\n",
       "  <th>team[T.St. Patricks]</th>        <td>   -0.7889</td> <td>    0.495</td> <td>   -1.593</td> <td> 0.111</td> <td>   -1.759</td> <td>    0.181</td>\n",
       "</tr>\n",
       "<tr>\n",
       "  <th>team[T.Waterford]</th>           <td>    0.3345</td> <td>    0.386</td> <td>    0.868</td> <td> 0.386</td> <td>   -0.421</td> <td>    1.090</td>\n",
       "</tr>\n",
       "<tr>\n",
       "  <th>opponent[T.Cork City]</th>       <td>    1.0723</td> <td>    0.445</td> <td>    2.411</td> <td> 0.016</td> <td>    0.200</td> <td>    1.944</td>\n",
       "</tr>\n",
       "<tr>\n",
       "  <th>opponent[T.Derry City]</th>      <td>    0.6402</td> <td>    0.496</td> <td>    1.290</td> <td> 0.197</td> <td>   -0.333</td> <td>    1.613</td>\n",
       "</tr>\n",
       "<tr>\n",
       "  <th>opponent[T.Dundalk]</th>         <td>    1.0800</td> <td>    0.467</td> <td>    2.313</td> <td> 0.021</td> <td>    0.165</td> <td>    1.995</td>\n",
       "</tr>\n",
       "<tr>\n",
       "  <th>opponent[T.Finn Harps]</th>      <td>    1.0935</td> <td>    0.445</td> <td>    2.457</td> <td> 0.014</td> <td>    0.221</td> <td>    1.966</td>\n",
       "</tr>\n",
       "<tr>\n",
       "  <th>opponent[T.Shamrock Rovers]</th> <td>    0.2414</td> <td>    0.541</td> <td>    0.447</td> <td> 0.655</td> <td>   -0.818</td> <td>    1.301</td>\n",
       "</tr>\n",
       "<tr>\n",
       "  <th>opponent[T.Shelbourne]</th>      <td>    0.6912</td> <td>    0.474</td> <td>    1.459</td> <td> 0.145</td> <td>   -0.237</td> <td>    1.620</td>\n",
       "</tr>\n",
       "<tr>\n",
       "  <th>opponent[T.Sligo Rovers]</th>    <td>    1.0866</td> <td>    0.461</td> <td>    2.356</td> <td> 0.018</td> <td>    0.183</td> <td>    1.991</td>\n",
       "</tr>\n",
       "<tr>\n",
       "  <th>opponent[T.St. Patricks]</th>    <td>    0.4028</td> <td>    0.495</td> <td>    0.814</td> <td> 0.416</td> <td>   -0.567</td> <td>    1.373</td>\n",
       "</tr>\n",
       "<tr>\n",
       "  <th>opponent[T.Waterford]</th>       <td>    1.0273</td> <td>    0.451</td> <td>    2.277</td> <td> 0.023</td> <td>    0.143</td> <td>    1.911</td>\n",
       "</tr>\n",
       "<tr>\n",
       "  <th>at_home</th>                     <td>    0.2439</td> <td>    0.178</td> <td>    1.367</td> <td> 0.172</td> <td>   -0.106</td> <td>    0.594</td>\n",
       "</tr>\n",
       "</table>"
      ],
      "text/plain": [
       "<class 'statsmodels.iolib.summary.Summary'>\n",
       "\"\"\"\n",
       "                 Generalized Linear Model Regression Results                  \n",
       "==============================================================================\n",
       "Dep. Variable:           goals_scored   No. Observations:                  116\n",
       "Model:                            GLM   Df Residuals:                       96\n",
       "Model Family:                 Poisson   Df Model:                           19\n",
       "Link Function:                    log   Scale:                          1.0000\n",
       "Method:                          IRLS   Log-Likelihood:                -142.57\n",
       "Date:                Thu, 24 Sep 2020   Deviance:                       108.54\n",
       "Time:                        19:02:54   Pearson chi2:                     92.5\n",
       "No. Iterations:                     5                                         \n",
       "Covariance Type:            nonrobust                                         \n",
       "===============================================================================================\n",
       "                                  coef    std err          z      P>|z|      [0.025      0.975]\n",
       "-----------------------------------------------------------------------------------------------\n",
       "Intercept                      -0.9015      0.490     -1.841      0.066      -1.861       0.058\n",
       "team[T.Cork City]              -0.5431      0.496     -1.095      0.274      -1.516       0.429\n",
       "team[T.Derry City]             -0.0451      0.414     -0.109      0.913      -0.856       0.766\n",
       "team[T.Dundalk]                 0.7030      0.361      1.946      0.052      -0.005       1.411\n",
       "team[T.Finn Harps]             -0.3908      0.453     -0.863      0.388      -1.278       0.497\n",
       "team[T.Shamrock Rovers]         0.8445      0.338      2.501      0.012       0.183       1.506\n",
       "team[T.Shelbourne]             -0.3009      0.426     -0.707      0.480      -1.136       0.534\n",
       "team[T.Sligo Rovers]            0.1805      0.393      0.459      0.646      -0.590       0.951\n",
       "team[T.St. Patricks]           -0.7889      0.495     -1.593      0.111      -1.759       0.181\n",
       "team[T.Waterford]               0.3345      0.386      0.868      0.386      -0.421       1.090\n",
       "opponent[T.Cork City]           1.0723      0.445      2.411      0.016       0.200       1.944\n",
       "opponent[T.Derry City]          0.6402      0.496      1.290      0.197      -0.333       1.613\n",
       "opponent[T.Dundalk]             1.0800      0.467      2.313      0.021       0.165       1.995\n",
       "opponent[T.Finn Harps]          1.0935      0.445      2.457      0.014       0.221       1.966\n",
       "opponent[T.Shamrock Rovers]     0.2414      0.541      0.447      0.655      -0.818       1.301\n",
       "opponent[T.Shelbourne]          0.6912      0.474      1.459      0.145      -0.237       1.620\n",
       "opponent[T.Sligo Rovers]        1.0866      0.461      2.356      0.018       0.183       1.991\n",
       "opponent[T.St. Patricks]        0.4028      0.495      0.814      0.416      -0.567       1.373\n",
       "opponent[T.Waterford]           1.0273      0.451      2.277      0.023       0.143       1.911\n",
       "at_home                         0.2439      0.178      1.367      0.172      -0.106       0.594\n",
       "===============================================================================================\n",
       "\"\"\""
      ]
     },
     "execution_count": 137,
     "metadata": {},
     "output_type": "execute_result"
    }
   ],
   "source": [
    "poisson_model.summary()"
   ]
  },
  {
   "cell_type": "markdown",
   "metadata": {},
   "source": [
    "A few quick points to note here before moving on:\n",
    "\n",
    "1. You will notice that Bohs don't appear anywhere in this summary. This isn't because I am a Shamrock Rovers fan but rather because since they appear first alphabetically, they are the intercept for the model. So you can think of all other coefficient values as that teams attacking of sefensive strength compared to Bohs. For example if a team has a positive coefficient value, it will mean they are a superior attacking team to Bohs, whereas an team with a negative coefficient can be considered inferior as an attacking threat. Conversely, an opponent with a positive coefficient can be considered a worse team defensivly, while an opponent with a negative coefficent can be considered a better defensive team.\n",
    "\n",
    "\n",
    "2. With point 1 in mind, we can use the coefficient values to rank teams within the league. For example, since there are no negative values in the opponent section, we can say that Bohs are the most solid defensive team in the league, on the other hand, we can say that Shamrock Rovers are the best attacking team\n",
    "\n",
    "\n",
    "3. Finally, you will notice that the p-value for `at_home` is equal to 0.172. This is interesting as it suggests that this particular vairbale is not a significant predictior in our model, and that there has been no home field advantage in the 2020 season. This makes sense intuitively due to the impact of coronavirus on fans attending matches and it could be an exercise for the readon to repeat this analysis on the 2019 data to determine if this variable was significant then!"
   ]
  },
  {
   "cell_type": "markdown",
   "metadata": {},
   "source": [
    "## Use the expected goals based on opponent and home field advantage to run simulations and determine scoreline probabilities\n",
    "\n",
    "Now that we have a mechanism for calculating the expected goals for a team given their opponent, we can use this information with the basic model discussed earlier to generate probalities for match scorelines\n",
    "\n",
    "To do this we will define a function which calculates the expected goals for the home and away team, then iterativly calculates the probability of them scoring N goals in that match befor creating a square matrix of result probabilities.\n",
    "\n",
    "The match I will focus on will be tomorrow's Bohemians v Derry City game."
   ]
  },
  {
   "cell_type": "code",
   "execution_count": 157,
   "metadata": {},
   "outputs": [],
   "source": [
    "def simulate_match(poisson_model, home_team, away_team, max_goals=5):\n",
    "    # calculate home team expected goals using our poisson regression model\n",
    "    home_team_expected_goals = poisson_model.predict(\n",
    "        pd.DataFrame(data={'team': home_team, 'opponent': away_team, 'at_home':1},index=[1])\n",
    "    )\n",
    "    \n",
    "    # calculate away team expected goals using the same model\n",
    "    away_team_expected_goals = poisson_model.predict(\n",
    "        pd.DataFrame(data={'team': away_team, 'opponent': home_team, 'at_home':0},index=[1])\n",
    "    )\n",
    "    \n",
    "    # now loop through all possible goal combinations and determine the probability of that scoreline\n",
    "    team_goals_prob = [\n",
    "        [poisson.pmf(i, expected_goals) for i in range(0, max_goals+1)] for expected_goals in [\n",
    "            home_team_expected_goals, away_team_expected_goals\n",
    "        ]\n",
    "    ]\n",
    "    \n",
    "    return(np.outer(np.array(team_goals_prob[0]), np.array(team_goals_prob[1])))"
   ]
  },
  {
   "cell_type": "code",
   "execution_count": 158,
   "metadata": {},
   "outputs": [
    {
     "name": "stderr",
     "output_type": "stream",
     "text": [
      "<ipython-input-158-26857b794f4b>:22: UserWarning: Matplotlib is currently using module://ipykernel.pylab.backend_inline, which is a non-GUI backend, so cannot show the figure.\n",
      "  fig.show()\n"
     ]
    },
    {
     "data": {
      "image/png": "[encoded data removed]",
      "text/plain": [
       "<Figure size 1476x756 with 2 Axes>"
      ]
     },
     "metadata": {
      "needs_background": "light"
     },
     "output_type": "display_data"
    }
   ],
   "source": [
    "match_score_probabilities = simulate_match(\n",
    "    poisson_model, \"Bohemians\", \"Derry City\"\n",
    ")\n",
    "\n",
    "\n",
    "fig, ax = plt.subplots()\n",
    "fig.set_size_inches(20.5, 10.5)\n",
    "\n",
    "# plot our boxplot and\n",
    "ax = sns.heatmap(match_score_probabilities, annot=True, cmap=\"YlGn\")\n",
    "\n",
    "# Hide the right and top spines\n",
    "ax.spines['right'].set_visible(False)\n",
    "ax.spines['top'].set_visible(False)\n",
    "\n",
    "# set and format titles\n",
    "ax.set_title(\"Bohs v Derry predictions\", fontdict={'fontsize':18, 'fontweight':'bold'})\n",
    "ax.set_xlabel(\"Derry Goals\", fontdict={'fontsize':15, 'fontweight':'bold'})\n",
    "ax.set_ylabel(\"Bohs Goals\", fontdict={'fontsize':15, 'fontweight':'bold'})\n",
    "ax.set_xticklabels(ax.get_xticklabels(), size=14)\n",
    "plt.savefig('sample_output.png')\n",
    "fig.show()"
   ]
  },
  {
   "cell_type": "code",
   "execution_count": 72,
   "metadata": {},
   "outputs": [
    {
     "name": "stdout",
     "output_type": "stream",
     "text": [
      "Probability Bohs win: 0.5\n",
      "Probability of a draw: 0.36\n",
      "Probability Derry win: 0.14\n"
     ]
    }
   ],
   "source": [
    "match_score_probabilities = simulate_match(\n",
    "    poisson_model, \"Bohemians\", \"Derry City\"\n",
    ")\n",
    "\n",
    "bohs_win = round(np.sum(np.tril(match_score_probabilities, -1)), 2)\n",
    "draw = round(np.sum(np.diag(match_score_probabilities)), 2)\n",
    "derry_win = round(np.sum(np.triu(match_score_probabilities, 1)), 2)\n",
    "\n",
    "print(f\"Probability Bohs win: {bohs_win}\\nProbability of a draw: {draw}\\nProbability Derry win: {derry_win}\")"
   ]
  }
 ],
 "metadata": {
  "kernelspec": {
   "display_name": "Python 3",
   "language": "python",
   "name": "python3"
  },
  "language_info": {
   "codemirror_mode": {
    "name": "ipython",
    "version": 3
   },
   "file_extension": ".py",
   "mimetype": "text/x-python",
   "name": "python",
   "nbconvert_exporter": "python",
   "pygments_lexer": "ipython3",
   "version": "3.8.3"
  },
  "toc": {
   "base_numbering": 1,
   "nav_menu": {},
   "number_sections": true,
   "sideBar": true,
   "skip_h1_title": false,
   "title_cell": "Table of Contents",
   "title_sidebar": "Contents",
   "toc_cell": false,
   "toc_position": {},
   "toc_section_display": true,
   "toc_window_display": false
  }
 },
 "nbformat": 4,
 "nbformat_minor": 4
}
